{
 "cells": [
  {
   "cell_type": "markdown",
   "id": "bc5f4c0d",
   "metadata": {},
   "source": [
    "## Creating Your First Web Scraper"
   ]
  },
  {
   "cell_type": "code",
   "execution_count": 2,
   "id": "c0beed60",
   "metadata": {},
   "outputs": [
    {
     "name": "stdout",
     "output_type": "stream",
     "text": [
      "<!DOCTYPE HTML PUBLIC \"-//IETF//DTD HTML 2.0//EN\">\n",
      "<html><head>\n",
      "<title>404 Not Found</title>\n",
      "</head><body>\n",
      "<h1>Not Found</h1>\n",
      "<p>The requested URL was not found on this server.</p>\n",
      "<hr>\n",
      "<address>Apache/2.4.53 (Debian) Server at bradfordtuckfield.com Port 443</address>\n",
      "</body></html>\n",
      "\n"
     ]
    }
   ],
   "source": [
    "import requests\n",
    "urltoget='https://bradfordtuckfield.com/indexarchive20210903.xhtml'\n",
    "pagecode = requests.get(urltoget)\n",
    "print(pagecode.text[0:600])"
   ]
  },
  {
   "cell_type": "markdown",
   "id": "dc2e2b0f",
   "metadata": {},
   "source": [
    "## Parsing HTML Code"
   ]
  },
  {
   "cell_type": "code",
   "execution_count": 5,
   "id": "de12e81c",
   "metadata": {},
   "outputs": [
    {
     "name": "stdout",
     "output_type": "stream",
     "text": [
      "12244\n"
     ]
    }
   ],
   "source": [
    "# Scraping an Email Address\n",
    "\n",
    "urltoget = 'https://bradfordtuckfield.com/'\n",
    "pagecode = requests.get(urltoget)\n",
    "\n",
    "mail_beginning=pagecode.text.find('Email:')\n",
    "print(mail_beginning)"
   ]
  },
  {
   "cell_type": "code",
   "execution_count": 12,
   "id": "ba4e6702",
   "metadata": {},
   "outputs": [
    {
     "name": "stdout",
     "output_type": "stream",
     "text": [
      "Email: contact at bradfordtuckfield.com\n"
     ]
    }
   ],
   "source": [
    "print(pagecode.text[(mail_beginning):(mail_beginning+39)])"
   ]
  },
  {
   "cell_type": "code",
   "execution_count": 17,
   "id": "27e1a493",
   "metadata": {},
   "outputs": [
    {
     "name": "stdout",
     "output_type": "stream",
     "text": [
      "-1\n"
     ]
    }
   ],
   "source": [
    "# Searching for Addresses Directly\n",
    "\n",
    "urltoget = 'https://bradfordtuckfield.com/contactscrape.xhtml'\n",
    "pagecode = requests.get(urltoget)\n",
    "\n",
    "at_beginning=pagecode.text.find('@')\n",
    "print(at_beginning)"
   ]
  },
  {
   "cell_type": "code",
   "execution_count": 18,
   "id": "75df6434",
   "metadata": {},
   "outputs": [
    {
     "name": "stdout",
     "output_type": "stream",
     "text": [
      "\n"
     ]
    }
   ],
   "source": [
    "print(pagecode.text[(at_beginning-8):(at_beginning+22)])"
   ]
  },
  {
   "cell_type": "markdown",
   "id": "c1b7ed7c",
   "metadata": {},
   "source": [
    "## Performing Searches with Regular Expressions\n",
    "\n",
    "Regular expressions are special strings that enable advanced, flexible, custom searches of patterns in text."
   ]
  },
  {
   "cell_type": "code",
   "execution_count": 19,
   "id": "e9ae8174",
   "metadata": {},
   "outputs": [
    {
     "name": "stdout",
     "output_type": "stream",
     "text": [
      "(18, 27)\n"
     ]
    }
   ],
   "source": [
    "import re\n",
    "\n",
    "print(re.search(r'recommend','irrelevant text I recommend irrelevant text').span())\n",
    "# finds the word in the larger string\n",
    "# r = raw string\n",
    "# span() - gives beginning and end locations of substring"
   ]
  },
  {
   "cell_type": "code",
   "execution_count": 21,
   "id": "36b082d1",
   "metadata": {},
   "outputs": [
    {
     "name": "stdout",
     "output_type": "stream",
     "text": [
      "(18, 27)\n"
     ]
    }
   ],
   "source": [
    "import re\n",
    "print(re.search('rec+om+end', 'irrelevant text I recommend irrelevant text').span())\n",
    "# + - metacharacter -> indicates repetition\n",
    "# ex: c+ -> searches for one or more repetitions of the letter c\n",
    "# A string that uses a metacharacter like + with a special, logical meaning is called a regular expression"
   ]
  },
  {
   "cell_type": "code",
   "execution_count": 25,
   "id": "f94e0362",
   "metadata": {},
   "outputs": [
    {
     "name": "stdout",
     "output_type": "stream",
     "text": [
      "(18, 26)\n",
      "(18, 28)\n"
     ]
    },
    {
     "ename": "AttributeError",
     "evalue": "'NoneType' object has no attribute 'span'",
     "output_type": "error",
     "traceback": [
      "\u001b[0;31m---------------------------------------------------------------------------\u001b[0m",
      "\u001b[0;31mAttributeError\u001b[0m                            Traceback (most recent call last)",
      "\u001b[0;32m/var/folders/q0/mqxr4sbx0kq4j_t6_kt3k58h0000gp/T/ipykernel_5013/3902140239.py\u001b[0m in \u001b[0;36m<module>\u001b[0;34m\u001b[0m\n\u001b[1;32m      2\u001b[0m \u001b[0mprint\u001b[0m\u001b[0;34m(\u001b[0m\u001b[0mre\u001b[0m\u001b[0;34m.\u001b[0m\u001b[0msearch\u001b[0m\u001b[0;34m(\u001b[0m\u001b[0;34m'rec+om+end'\u001b[0m\u001b[0;34m,\u001b[0m\u001b[0;34m'irrelevant text I recomend irrelevant text'\u001b[0m\u001b[0;34m)\u001b[0m\u001b[0;34m.\u001b[0m\u001b[0mspan\u001b[0m\u001b[0;34m(\u001b[0m\u001b[0;34m)\u001b[0m\u001b[0;34m)\u001b[0m\u001b[0;34m\u001b[0m\u001b[0;34m\u001b[0m\u001b[0m\n\u001b[1;32m      3\u001b[0m \u001b[0mprint\u001b[0m\u001b[0;34m(\u001b[0m\u001b[0mre\u001b[0m\u001b[0;34m.\u001b[0m\u001b[0msearch\u001b[0m\u001b[0;34m(\u001b[0m\u001b[0;34m'rec+om+end'\u001b[0m\u001b[0;34m,\u001b[0m\u001b[0;34m'irrelevant text I reccommend irrelevant text'\u001b[0m\u001b[0;34m)\u001b[0m\u001b[0;34m.\u001b[0m\u001b[0mspan\u001b[0m\u001b[0;34m(\u001b[0m\u001b[0;34m)\u001b[0m\u001b[0;34m)\u001b[0m\u001b[0;34m\u001b[0m\u001b[0;34m\u001b[0m\u001b[0m\n\u001b[0;32m----> 4\u001b[0;31m \u001b[0mprint\u001b[0m\u001b[0;34m(\u001b[0m\u001b[0mre\u001b[0m\u001b[0;34m.\u001b[0m\u001b[0msearch\u001b[0m\u001b[0;34m(\u001b[0m\u001b[0;34m'rec+om+end'\u001b[0m\u001b[0;34m,\u001b[0m\u001b[0;34m'irrelevant text I reommend irrelevant text'\u001b[0m\u001b[0;34m)\u001b[0m\u001b[0;34m.\u001b[0m\u001b[0mspan\u001b[0m\u001b[0;34m(\u001b[0m\u001b[0;34m)\u001b[0m\u001b[0;34m)\u001b[0m\u001b[0;34m\u001b[0m\u001b[0;34m\u001b[0m\u001b[0m\n\u001b[0m\u001b[1;32m      5\u001b[0m \u001b[0;31m# error bc there is not one or more repetitions of c\u001b[0m\u001b[0;34m\u001b[0m\u001b[0;34m\u001b[0m\u001b[0m\n\u001b[1;32m      6\u001b[0m \u001b[0mprint\u001b[0m\u001b[0;34m(\u001b[0m\u001b[0mre\u001b[0m\u001b[0;34m.\u001b[0m\u001b[0msearch\u001b[0m\u001b[0;34m(\u001b[0m\u001b[0;34m'rec+om+end'\u001b[0m\u001b[0;34m,\u001b[0m\u001b[0;34m'irrelevant text I recomment irrelevant text'\u001b[0m\u001b[0;34m)\u001b[0m\u001b[0;34m.\u001b[0m\u001b[0mspan\u001b[0m\u001b[0;34m(\u001b[0m\u001b[0;34m)\u001b[0m\u001b[0;34m)\u001b[0m\u001b[0;34m\u001b[0m\u001b[0;34m\u001b[0m\u001b[0m\n",
      "\u001b[0;31mAttributeError\u001b[0m: 'NoneType' object has no attribute 'span'"
     ]
    }
   ],
   "source": [
    "import re\n",
    "print(re.search('rec+om+end','irrelevant text I recomend irrelevant text').span())\n",
    "print(re.search('rec+om+end','irrelevant text I reccommend irrelevant text').span())\n",
    "print(re.search('rec+om+end','irrelevant text I reommend irrelevant text').span())\n",
    "# error bc there is not one or more repetitions of c\n",
    "print(re.search('rec+om+end','irrelevant text I recomment irrelevant text').span())\n",
    "# error bc there is no match for the d at the end"
   ]
  },
  {
   "cell_type": "code",
   "execution_count": 26,
   "id": "d09a7456",
   "metadata": {},
   "outputs": [
    {
     "data": {
      "text/plain": [
       "(19, 22)"
      ]
     },
     "execution_count": 26,
     "metadata": {},
     "output_type": "execute_result"
    }
   ],
   "source": [
    "# Using Metacharacters for Flexible Searches\n",
    "\n",
    "# asterisk (*) specifies preceding character is repeated zero or more times\n",
    "re.search('10*','My bank balance is 100').span()"
   ]
  },
  {
   "cell_type": "code",
   "execution_count": 28,
   "id": "c5265c6a",
   "metadata": {},
   "outputs": [
    {
     "name": "stdout",
     "output_type": "stream",
     "text": [
      "(19, 20)\n",
      "(19, 23)\n",
      "(19, 26)\n"
     ]
    },
    {
     "ename": "AttributeError",
     "evalue": "'NoneType' object has no attribute 'span'",
     "output_type": "error",
     "traceback": [
      "\u001b[0;31m---------------------------------------------------------------------------\u001b[0m",
      "\u001b[0;31mAttributeError\u001b[0m                            Traceback (most recent call last)",
      "\u001b[0;32m/var/folders/q0/mqxr4sbx0kq4j_t6_kt3k58h0000gp/T/ipykernel_5013/1999691779.py\u001b[0m in \u001b[0;36m<module>\u001b[0;34m\u001b[0m\n\u001b[1;32m      3\u001b[0m \u001b[0mprint\u001b[0m\u001b[0;34m(\u001b[0m\u001b[0mre\u001b[0m\u001b[0;34m.\u001b[0m\u001b[0msearch\u001b[0m\u001b[0;34m(\u001b[0m\u001b[0;34m'10*'\u001b[0m\u001b[0;34m,\u001b[0m\u001b[0;34m'My bank balance is 1000'\u001b[0m\u001b[0;34m)\u001b[0m\u001b[0;34m.\u001b[0m\u001b[0mspan\u001b[0m\u001b[0;34m(\u001b[0m\u001b[0;34m)\u001b[0m\u001b[0;34m)\u001b[0m\u001b[0;34m\u001b[0m\u001b[0;34m\u001b[0m\u001b[0m\n\u001b[1;32m      4\u001b[0m \u001b[0mprint\u001b[0m\u001b[0;34m(\u001b[0m\u001b[0mre\u001b[0m\u001b[0;34m.\u001b[0m\u001b[0msearch\u001b[0m\u001b[0;34m(\u001b[0m\u001b[0;34m'10*'\u001b[0m\u001b[0;34m,\u001b[0m\u001b[0;34m'My bank balance is 1000000'\u001b[0m\u001b[0;34m)\u001b[0m\u001b[0;34m.\u001b[0m\u001b[0mspan\u001b[0m\u001b[0;34m(\u001b[0m\u001b[0;34m)\u001b[0m\u001b[0;34m)\u001b[0m\u001b[0;34m\u001b[0m\u001b[0;34m\u001b[0m\u001b[0m\n\u001b[0;32m----> 5\u001b[0;31m \u001b[0mprint\u001b[0m\u001b[0;34m(\u001b[0m\u001b[0mre\u001b[0m\u001b[0;34m.\u001b[0m\u001b[0msearch\u001b[0m\u001b[0;34m(\u001b[0m\u001b[0;34m'10*'\u001b[0m\u001b[0;34m,\u001b[0m\u001b[0;34m'My bank balance is 9000'\u001b[0m\u001b[0;34m)\u001b[0m\u001b[0;34m.\u001b[0m\u001b[0mspan\u001b[0m\u001b[0;34m(\u001b[0m\u001b[0;34m)\u001b[0m\u001b[0;34m)\u001b[0m\u001b[0;34m\u001b[0m\u001b[0;34m\u001b[0m\u001b[0m\n\u001b[0m\u001b[1;32m      6\u001b[0m \u001b[0;31m# error bc no 1 adjacent to the 0\u001b[0m\u001b[0;34m\u001b[0m\u001b[0;34m\u001b[0m\u001b[0m\n",
      "\u001b[0;31mAttributeError\u001b[0m: 'NoneType' object has no attribute 'span'"
     ]
    }
   ],
   "source": [
    "import re\n",
    "print(re.search('10*','My bank balance is 1').span())\n",
    "print(re.search('10*','My bank balance is 1000').span())\n",
    "print(re.search('10*','My bank balance is 1000000').span())\n",
    "print(re.search('10*','My bank balance is 9000').span())\n",
    "# error bc no 1 adjacent to the 0"
   ]
  },
  {
   "cell_type": "code",
   "execution_count": 29,
   "id": "8c20bb98",
   "metadata": {},
   "outputs": [
    {
     "name": "stdout",
     "output_type": "stream",
     "text": [
      "(30, 35)\n"
     ]
    }
   ],
   "source": [
    "# ? - specifies that the preceding character appears either zero or one times\n",
    "print(re.search('Clarke?','Please refer questions to Mr. Clark').span())"
   ]
  },
  {
   "cell_type": "code",
   "execution_count": 30,
   "id": "b2077161",
   "metadata": {},
   "outputs": [
    {
     "ename": "AttributeError",
     "evalue": "'NoneType' object has no attribute 'span'",
     "output_type": "error",
     "traceback": [
      "\u001b[0;31m---------------------------------------------------------------------------\u001b[0m",
      "\u001b[0;31mAttributeError\u001b[0m                            Traceback (most recent call last)",
      "\u001b[0;32m/var/folders/q0/mqxr4sbx0kq4j_t6_kt3k58h0000gp/T/ipykernel_5013/508192209.py\u001b[0m in \u001b[0;36m<module>\u001b[0;34m\u001b[0m\n\u001b[1;32m      1\u001b[0m \u001b[0;31m# Fine-Tuning Searches with Escape Sequences\u001b[0m\u001b[0;34m\u001b[0m\u001b[0;34m\u001b[0m\u001b[0m\n\u001b[1;32m      2\u001b[0m \u001b[0;34m\u001b[0m\u001b[0m\n\u001b[0;32m----> 3\u001b[0;31m \u001b[0mre\u001b[0m\u001b[0;34m.\u001b[0m\u001b[0msearch\u001b[0m\u001b[0;34m(\u001b[0m\u001b[0;34m'99+12=111'\u001b[0m\u001b[0;34m,\u001b[0m\u001b[0;34m'Example addition: 99+12=111'\u001b[0m\u001b[0;34m)\u001b[0m\u001b[0;34m.\u001b[0m\u001b[0mspan\u001b[0m\u001b[0;34m(\u001b[0m\u001b[0;34m)\u001b[0m\u001b[0;34m\u001b[0m\u001b[0;34m\u001b[0m\u001b[0m\n\u001b[0m",
      "\u001b[0;31mAttributeError\u001b[0m: 'NoneType' object has no attribute 'span'"
     ]
    }
   ],
   "source": [
    "# Fine-Tuning Searches with Escape Sequences\n",
    "\n",
    "re.search('99+12=111','Example addition: 99+12=111').span()"
   ]
  },
  {
   "cell_type": "code",
   "execution_count": 31,
   "id": "00107484",
   "metadata": {},
   "outputs": [
    {
     "data": {
      "text/plain": [
       "(16, 26)"
      ]
     },
     "execution_count": 31,
     "metadata": {},
     "output_type": "execute_result"
    }
   ],
   "source": [
    "re.search('99+12=111','Incorrect fact: 999912=111').span()"
   ]
  },
  {
   "cell_type": "code",
   "execution_count": 32,
   "id": "2f9f4336",
   "metadata": {},
   "outputs": [
    {
     "data": {
      "text/plain": [
       "(18, 27)"
      ]
     },
     "execution_count": 32,
     "metadata": {},
     "output_type": "execute_result"
    }
   ],
   "source": [
    "re.search('99\\+12=111','Example addition: 99+12=111').span()"
   ]
  },
  {
   "cell_type": "code",
   "execution_count": 33,
   "id": "ecb453ff",
   "metadata": {},
   "outputs": [
    {
     "data": {
      "text/plain": [
       "(21, 28)"
      ]
     },
     "execution_count": 33,
     "metadata": {},
     "output_type": "execute_result"
    }
   ],
   "source": [
    "# backslash(\\) - escape sequence\n",
    "re.search('Clarke\\?','Is anyone here named Clarke?').span()"
   ]
  },
  {
   "cell_type": "code",
   "execution_count": 34,
   "id": "c846760b",
   "metadata": {},
   "outputs": [
    {
     "data": {
      "text/plain": [
       "(24, 25)"
      ]
     },
     "execution_count": 34,
     "metadata": {},
     "output_type": "execute_result"
    }
   ],
   "source": [
    "re.search(r'\\\\',r'The escape character is \\\\').span()"
   ]
  },
  {
   "cell_type": "code",
   "execution_count": 35,
   "id": "45fa24af",
   "metadata": {},
   "outputs": [
    {
     "data": {
      "text/plain": [
       "(24, 25)"
      ]
     },
     "execution_count": 35,
     "metadata": {},
     "output_type": "execute_result"
    }
   ],
   "source": [
    "re.search('\\d','The loneliest number is 1').span()\n",
    "# \\d - searches for any digit (numbers 0 to 9)"
   ]
  },
  {
   "cell_type": "markdown",
   "id": "5eb83923",
   "metadata": {},
   "source": [
    "The following are other useful escape sequences using non-metacharacters: <br>\n",
    "\\D  Searches for anything that’s not a digit <br>\n",
    "\\s  Searches for whitespace (spaces, tabs, and newlines) <br>\n",
    "\\w  Searches for any alphabetic characters (letters, numbers, or underscores)"
   ]
  },
  {
   "cell_type": "code",
   "execution_count": 36,
   "id": "c5632770",
   "metadata": {},
   "outputs": [
    {
     "data": {
      "text/plain": [
       "(1, 2)"
      ]
     },
     "execution_count": 36,
     "metadata": {},
     "output_type": "execute_result"
    }
   ],
   "source": [
    "re.search('[a-z]','My Twitter is @fake; my email is abc@def.com').span()\n",
    "# [a-z] - searches for characters that are in the \"class\" of characters between a and z"
   ]
  },
  {
   "cell_type": "code",
   "execution_count": 37,
   "id": "e5f1111e",
   "metadata": {},
   "outputs": [
    {
     "data": {
      "text/plain": [
       "(0, 1)"
      ]
     },
     "execution_count": 37,
     "metadata": {},
     "output_type": "execute_result"
    }
   ],
   "source": [
    "re.search('[A-Z]','My Twitter is @fake; my email is abc@def.com').span()"
   ]
  },
  {
   "cell_type": "code",
   "execution_count": 41,
   "id": "4e17cc1d",
   "metadata": {},
   "outputs": [
    {
     "data": {
      "text/plain": [
       "(14, 22)"
      ]
     },
     "execution_count": 41,
     "metadata": {},
     "output_type": "execute_result"
    }
   ],
   "source": [
    "re.search('Manchac[a|k]','Lets drive on Manchaca.').span()\n",
    "# pipe (|) - or logical expression"
   ]
  },
  {
   "cell_type": "code",
   "execution_count": 42,
   "id": "81501843",
   "metadata": {},
   "outputs": [
    {
     "data": {
      "text/plain": [
       "(14, 22)"
      ]
     },
     "execution_count": 42,
     "metadata": {},
     "output_type": "execute_result"
    }
   ],
   "source": [
    "re.search('Manchac[a|k]','Lets drive on Manchack.').span()"
   ]
  },
  {
   "cell_type": "code",
   "execution_count": 43,
   "id": "647182e8",
   "metadata": {},
   "outputs": [],
   "source": [
    "# Combining Metacharacters for Advanced Searches"
   ]
  },
  {
   "cell_type": "markdown",
   "id": "ed61ffd2",
   "metadata": {},
   "source": [
    "The following are other metacharacters you should know: <br>\n",
    "$  For the end of a line or string <br>\n",
    "^  For the beginning of a line or string <br>\n",
    ".  For a wildcard, meaning any character except the end of a line (\\n)"
   ]
  },
  {
   "cell_type": "code",
   "execution_count": 45,
   "id": "3773f387",
   "metadata": {},
   "outputs": [
    {
     "data": {
      "text/plain": [
       "(0, 23)"
      ]
     },
     "execution_count": 45,
     "metadata": {},
     "output_type": "execute_result"
    }
   ],
   "source": [
    "re.search('school.*\\.pdf$','schoolforgottenname.pdf').span()\n",
    "# searching for a filename that starts with school and ends with .pdf, and may have any other characters in between"
   ]
  },
  {
   "cell_type": "code",
   "execution_count": 46,
   "id": "31e9e8d8",
   "metadata": {},
   "outputs": [
    {
     "name": "stdout",
     "output_type": "stream",
     "text": [
      "(0, 23)\n",
      "(0, 10)\n",
      "(0, 19)\n"
     ]
    },
    {
     "ename": "AttributeError",
     "evalue": "'NoneType' object has no attribute 'span'",
     "output_type": "error",
     "traceback": [
      "\u001b[0;31m---------------------------------------------------------------------------\u001b[0m",
      "\u001b[0;31mAttributeError\u001b[0m                            Traceback (most recent call last)",
      "\u001b[0;32m/var/folders/q0/mqxr4sbx0kq4j_t6_kt3k58h0000gp/T/ipykernel_5013/4042997408.py\u001b[0m in \u001b[0;36m<module>\u001b[0;34m\u001b[0m\n\u001b[1;32m      3\u001b[0m \u001b[0mprint\u001b[0m\u001b[0;34m(\u001b[0m\u001b[0mre\u001b[0m\u001b[0;34m.\u001b[0m\u001b[0msearch\u001b[0m\u001b[0;34m(\u001b[0m\u001b[0;34m'school.*\\.pdf$'\u001b[0m\u001b[0;34m,\u001b[0m\u001b[0;34m'school.pdf'\u001b[0m\u001b[0;34m)\u001b[0m\u001b[0;34m.\u001b[0m\u001b[0mspan\u001b[0m\u001b[0;34m(\u001b[0m\u001b[0;34m)\u001b[0m\u001b[0;34m)\u001b[0m\u001b[0;34m\u001b[0m\u001b[0;34m\u001b[0m\u001b[0m\n\u001b[1;32m      4\u001b[0m \u001b[0mprint\u001b[0m\u001b[0;34m(\u001b[0m\u001b[0mre\u001b[0m\u001b[0;34m.\u001b[0m\u001b[0msearch\u001b[0m\u001b[0;34m(\u001b[0m\u001b[0;34m'school.*\\.pdf$'\u001b[0m\u001b[0;34m,\u001b[0m\u001b[0;34m'schoolothername.pdf'\u001b[0m\u001b[0;34m)\u001b[0m\u001b[0;34m.\u001b[0m\u001b[0mspan\u001b[0m\u001b[0;34m(\u001b[0m\u001b[0;34m)\u001b[0m\u001b[0;34m)\u001b[0m\u001b[0;34m\u001b[0m\u001b[0;34m\u001b[0m\u001b[0m\n\u001b[0;32m----> 5\u001b[0;31m \u001b[0mprint\u001b[0m\u001b[0;34m(\u001b[0m\u001b[0mre\u001b[0m\u001b[0;34m.\u001b[0m\u001b[0msearch\u001b[0m\u001b[0;34m(\u001b[0m\u001b[0;34m'school.*\\.pdf$'\u001b[0m\u001b[0;34m,\u001b[0m\u001b[0;34m'othername.pdf'\u001b[0m\u001b[0;34m)\u001b[0m\u001b[0;34m.\u001b[0m\u001b[0mspan\u001b[0m\u001b[0;34m(\u001b[0m\u001b[0;34m)\u001b[0m\u001b[0;34m)\u001b[0m\u001b[0;34m\u001b[0m\u001b[0;34m\u001b[0m\u001b[0m\n\u001b[0m\u001b[1;32m      6\u001b[0m \u001b[0mprint\u001b[0m\u001b[0;34m(\u001b[0m\u001b[0mre\u001b[0m\u001b[0;34m.\u001b[0m\u001b[0msearch\u001b[0m\u001b[0;34m(\u001b[0m\u001b[0;34m'school.*\\.pdf$'\u001b[0m\u001b[0;34m,\u001b[0m\u001b[0;34m'schoolothernamepdf'\u001b[0m\u001b[0;34m)\u001b[0m\u001b[0;34m.\u001b[0m\u001b[0mspan\u001b[0m\u001b[0;34m(\u001b[0m\u001b[0;34m)\u001b[0m\u001b[0;34m)\u001b[0m\u001b[0;34m\u001b[0m\u001b[0;34m\u001b[0m\u001b[0m\n\u001b[1;32m      7\u001b[0m \u001b[0mprint\u001b[0m\u001b[0;34m(\u001b[0m\u001b[0mre\u001b[0m\u001b[0;34m.\u001b[0m\u001b[0msearch\u001b[0m\u001b[0;34m(\u001b[0m\u001b[0;34m'school.*\\.pdf$'\u001b[0m\u001b[0;34m,\u001b[0m\u001b[0;34m'schoolforgottenname.pdf.exe'\u001b[0m\u001b[0;34m)\u001b[0m\u001b[0;34m.\u001b[0m\u001b[0mspan\u001b[0m\u001b[0;34m(\u001b[0m\u001b[0;34m)\u001b[0m\u001b[0;34m)\u001b[0m\u001b[0;34m\u001b[0m\u001b[0;34m\u001b[0m\u001b[0m\n",
      "\u001b[0;31mAttributeError\u001b[0m: 'NoneType' object has no attribute 'span'"
     ]
    }
   ],
   "source": [
    "import re\n",
    "print(re.search('school.*\\.pdf$','schoolforgottenname.pdf').span())\n",
    "print(re.search('school.*\\.pdf$','school.pdf').span())\n",
    "print(re.search('school.*\\.pdf$','schoolothername.pdf').span())\n",
    "print(re.search('school.*\\.pdf$','othername.pdf').span())\n",
    "print(re.search('school.*\\.pdf$','schoolothernamepdf').span())\n",
    "print(re.search('school.*\\.pdf$','schoolforgottenname.pdf.exe').span())"
   ]
  },
  {
   "cell_type": "markdown",
   "id": "feaca31f",
   "metadata": {},
   "source": [
    "## Using Regular Expressions to Search for Email Addresses"
   ]
  },
  {
   "cell_type": "code",
   "execution_count": 47,
   "id": "5ce9d8e9",
   "metadata": {},
   "outputs": [
    {
     "data": {
      "text/plain": [
       "(33, 44)"
      ]
     },
     "execution_count": 47,
     "metadata": {},
     "output_type": "execute_result"
    }
   ],
   "source": [
    "# <some text>@<some more text>\n",
    "re.search('[a-zA-Z]+@[a-zA-Z]+\\.[a-zA-Z]+',\\\n",
    "'My Twitter is @fake; my email is abc@def.com').span()"
   ]
  },
  {
   "cell_type": "markdown",
   "id": "c391895a",
   "metadata": {},
   "source": [
    "## Converting Results to Usable Data"
   ]
  },
  {
   "cell_type": "code",
   "execution_count": 58,
   "id": "e435a526",
   "metadata": {},
   "outputs": [],
   "source": [
    "import requests\n",
    "urltoget = 'https://bradfordtuckfield.com/contactscrape2.xhtml'\n",
    "pagecode = requests.get(urltoget)"
   ]
  },
  {
   "cell_type": "code",
   "execution_count": 59,
   "id": "754f4501",
   "metadata": {},
   "outputs": [],
   "source": [
    "allmatches=re.finditer('[a-zA-Z]+@[a-zA-Z]+\\.[a-zA-Z]+',pagecode.text)\n",
    "# finditer() - obtains multiple matches"
   ]
  },
  {
   "cell_type": "code",
   "execution_count": 60,
   "id": "2fb38afb",
   "metadata": {},
   "outputs": [
    {
     "name": "stdout",
     "output_type": "stream",
     "text": [
      "[]\n"
     ]
    }
   ],
   "source": [
    "alladdresses = []\n",
    "for match in allmatches:\n",
    "    alladdresses.append(match[0])\n",
    "\n",
    "print(alladdresses)"
   ]
  },
  {
   "cell_type": "code",
   "execution_count": 61,
   "id": "1336fd3b",
   "metadata": {},
   "outputs": [
    {
     "name": "stdout",
     "output_type": "stream",
     "text": [
      "Empty DataFrame\n",
      "Columns: []\n",
      "Index: []\n"
     ]
    }
   ],
   "source": [
    "import pandas as pd\n",
    "alladdpd=pd.DataFrame(alladdresses)\n",
    "print(alladdpd)"
   ]
  },
  {
   "cell_type": "code",
   "execution_count": 63,
   "id": "a232eb0c",
   "metadata": {},
   "outputs": [
    {
     "ename": "KeyError",
     "evalue": "0",
     "output_type": "error",
     "traceback": [
      "\u001b[0;31m---------------------------------------------------------------------------\u001b[0m",
      "\u001b[0;31mKeyError\u001b[0m                                  Traceback (most recent call last)",
      "\u001b[0;32m/var/folders/q0/mqxr4sbx0kq4j_t6_kt3k58h0000gp/T/ipykernel_5013/3991246376.py\u001b[0m in \u001b[0;36m<module>\u001b[0;34m\u001b[0m\n\u001b[0;32m----> 1\u001b[0;31m \u001b[0malladdpd\u001b[0m\u001b[0;34m=\u001b[0m\u001b[0malladdpd\u001b[0m\u001b[0;34m.\u001b[0m\u001b[0msort_values\u001b[0m\u001b[0;34m(\u001b[0m\u001b[0;36m0\u001b[0m\u001b[0;34m,\u001b[0m\u001b[0mascending\u001b[0m\u001b[0;34m=\u001b[0m\u001b[0;32mFalse\u001b[0m\u001b[0;34m)\u001b[0m\u001b[0;34m\u001b[0m\u001b[0;34m\u001b[0m\u001b[0m\n\u001b[0m\u001b[1;32m      2\u001b[0m \u001b[0malladdpd\u001b[0m\u001b[0;34m.\u001b[0m\u001b[0mto_csv\u001b[0m\u001b[0;34m(\u001b[0m\u001b[0;34m'alladdpd20220720.csv'\u001b[0m\u001b[0;34m)\u001b[0m\u001b[0;34m\u001b[0m\u001b[0;34m\u001b[0m\u001b[0m\n",
      "\u001b[0;32m~/opt/anaconda3/lib/python3.9/site-packages/pandas/util/_decorators.py\u001b[0m in \u001b[0;36mwrapper\u001b[0;34m(*args, **kwargs)\u001b[0m\n\u001b[1;32m    309\u001b[0m                     \u001b[0mstacklevel\u001b[0m\u001b[0;34m=\u001b[0m\u001b[0mstacklevel\u001b[0m\u001b[0;34m,\u001b[0m\u001b[0;34m\u001b[0m\u001b[0;34m\u001b[0m\u001b[0m\n\u001b[1;32m    310\u001b[0m                 )\n\u001b[0;32m--> 311\u001b[0;31m             \u001b[0;32mreturn\u001b[0m \u001b[0mfunc\u001b[0m\u001b[0;34m(\u001b[0m\u001b[0;34m*\u001b[0m\u001b[0margs\u001b[0m\u001b[0;34m,\u001b[0m \u001b[0;34m**\u001b[0m\u001b[0mkwargs\u001b[0m\u001b[0;34m)\u001b[0m\u001b[0;34m\u001b[0m\u001b[0;34m\u001b[0m\u001b[0m\n\u001b[0m\u001b[1;32m    312\u001b[0m \u001b[0;34m\u001b[0m\u001b[0m\n\u001b[1;32m    313\u001b[0m         \u001b[0;32mreturn\u001b[0m \u001b[0mwrapper\u001b[0m\u001b[0;34m\u001b[0m\u001b[0;34m\u001b[0m\u001b[0m\n",
      "\u001b[0;32m~/opt/anaconda3/lib/python3.9/site-packages/pandas/core/frame.py\u001b[0m in \u001b[0;36msort_values\u001b[0;34m(self, by, axis, ascending, inplace, kind, na_position, ignore_index, key)\u001b[0m\n\u001b[1;32m   6320\u001b[0m \u001b[0;34m\u001b[0m\u001b[0m\n\u001b[1;32m   6321\u001b[0m             \u001b[0mby\u001b[0m \u001b[0;34m=\u001b[0m \u001b[0mby\u001b[0m\u001b[0;34m[\u001b[0m\u001b[0;36m0\u001b[0m\u001b[0;34m]\u001b[0m\u001b[0;34m\u001b[0m\u001b[0;34m\u001b[0m\u001b[0m\n\u001b[0;32m-> 6322\u001b[0;31m             \u001b[0mk\u001b[0m \u001b[0;34m=\u001b[0m \u001b[0mself\u001b[0m\u001b[0;34m.\u001b[0m\u001b[0m_get_label_or_level_values\u001b[0m\u001b[0;34m(\u001b[0m\u001b[0mby\u001b[0m\u001b[0;34m,\u001b[0m \u001b[0maxis\u001b[0m\u001b[0;34m=\u001b[0m\u001b[0maxis\u001b[0m\u001b[0;34m)\u001b[0m\u001b[0;34m\u001b[0m\u001b[0;34m\u001b[0m\u001b[0m\n\u001b[0m\u001b[1;32m   6323\u001b[0m \u001b[0;34m\u001b[0m\u001b[0m\n\u001b[1;32m   6324\u001b[0m             \u001b[0;31m# need to rewrap column in Series to apply key function\u001b[0m\u001b[0;34m\u001b[0m\u001b[0;34m\u001b[0m\u001b[0m\n",
      "\u001b[0;32m~/opt/anaconda3/lib/python3.9/site-packages/pandas/core/generic.py\u001b[0m in \u001b[0;36m_get_label_or_level_values\u001b[0;34m(self, key, axis)\u001b[0m\n\u001b[1;32m   1838\u001b[0m             \u001b[0mvalues\u001b[0m \u001b[0;34m=\u001b[0m \u001b[0mself\u001b[0m\u001b[0;34m.\u001b[0m\u001b[0maxes\u001b[0m\u001b[0;34m[\u001b[0m\u001b[0maxis\u001b[0m\u001b[0;34m]\u001b[0m\u001b[0;34m.\u001b[0m\u001b[0mget_level_values\u001b[0m\u001b[0;34m(\u001b[0m\u001b[0mkey\u001b[0m\u001b[0;34m)\u001b[0m\u001b[0;34m.\u001b[0m\u001b[0m_values\u001b[0m\u001b[0;34m\u001b[0m\u001b[0;34m\u001b[0m\u001b[0m\n\u001b[1;32m   1839\u001b[0m         \u001b[0;32melse\u001b[0m\u001b[0;34m:\u001b[0m\u001b[0;34m\u001b[0m\u001b[0;34m\u001b[0m\u001b[0m\n\u001b[0;32m-> 1840\u001b[0;31m             \u001b[0;32mraise\u001b[0m \u001b[0mKeyError\u001b[0m\u001b[0;34m(\u001b[0m\u001b[0mkey\u001b[0m\u001b[0;34m)\u001b[0m\u001b[0;34m\u001b[0m\u001b[0;34m\u001b[0m\u001b[0m\n\u001b[0m\u001b[1;32m   1841\u001b[0m \u001b[0;34m\u001b[0m\u001b[0m\n\u001b[1;32m   1842\u001b[0m         \u001b[0;31m# Check for duplicates\u001b[0m\u001b[0;34m\u001b[0m\u001b[0;34m\u001b[0m\u001b[0m\n",
      "\u001b[0;31mKeyError\u001b[0m: 0"
     ]
    }
   ],
   "source": [
    "alladdpd=alladdpd.sort_values(0,ascending=False)\n",
    "alladdpd.to_csv('alladdpd20220720.csv')"
   ]
  },
  {
   "cell_type": "markdown",
   "id": "7c2ffb60",
   "metadata": {},
   "source": [
    "## Using Beautiful Soup\n",
    "\n",
    "The Beautiful Soup library allows us to search for the contents of particular HTML elements without writing any regular expressions."
   ]
  },
  {
   "cell_type": "code",
   "execution_count": 64,
   "id": "7a0d6a2d",
   "metadata": {},
   "outputs": [],
   "source": [
    "import requests\n",
    "from bs4 import BeautifulSoup\n",
    "\n",
    "URL = 'https://bradfordtuckfield.com/indexarchive20210903.xhtml'\n",
    "response = requests.get(URL)\n",
    "soup = BeautifulSoup(response.text, 'lxml') # dependency of bs4 is lxml\n",
    "\n",
    "all_urls = soup.find_all('a')\n",
    "for each in all_urls:\n",
    "    print(each['href'])"
   ]
  },
  {
   "cell_type": "code",
   "execution_count": 65,
   "id": "c33fe358",
   "metadata": {},
   "outputs": [
    {
     "ename": "AttributeError",
     "evalue": "'NoneType' object has no attribute 'text'",
     "output_type": "error",
     "traceback": [
      "\u001b[0;31m---------------------------------------------------------------------------\u001b[0m",
      "\u001b[0;31mAttributeError\u001b[0m                            Traceback (most recent call last)",
      "\u001b[0;32m/var/folders/q0/mqxr4sbx0kq4j_t6_kt3k58h0000gp/T/ipykernel_5013/986851025.py\u001b[0m in \u001b[0;36m<module>\u001b[0;34m\u001b[0m\n\u001b[1;32m      9\u001b[0m \u001b[0msoup\u001b[0m \u001b[0;34m=\u001b[0m \u001b[0mBeautifulSoup\u001b[0m\u001b[0;34m(\u001b[0m\u001b[0mresponse\u001b[0m\u001b[0;34m.\u001b[0m\u001b[0mtext\u001b[0m\u001b[0;34m,\u001b[0m \u001b[0;34m'lxml'\u001b[0m\u001b[0;34m)\u001b[0m\u001b[0;34m\u001b[0m\u001b[0;34m\u001b[0m\u001b[0m\n\u001b[1;32m     10\u001b[0m \u001b[0;34m\u001b[0m\u001b[0m\n\u001b[0;32m---> 11\u001b[0;31m \u001b[0memail\u001b[0m \u001b[0;34m=\u001b[0m \u001b[0msoup\u001b[0m\u001b[0;34m.\u001b[0m\u001b[0mfind\u001b[0m\u001b[0;34m(\u001b[0m\u001b[0;34m'label'\u001b[0m\u001b[0;34m,\u001b[0m\u001b[0;34m{\u001b[0m\u001b[0;34m'class'\u001b[0m\u001b[0;34m:\u001b[0m\u001b[0;34m'email'\u001b[0m\u001b[0;34m}\u001b[0m\u001b[0;34m)\u001b[0m\u001b[0;34m.\u001b[0m\u001b[0mtext\u001b[0m\u001b[0;34m\u001b[0m\u001b[0;34m\u001b[0m\u001b[0m\n\u001b[0m\u001b[1;32m     12\u001b[0m \u001b[0mmobile\u001b[0m \u001b[0;34m=\u001b[0m \u001b[0msoup\u001b[0m\u001b[0;34m.\u001b[0m\u001b[0mfind\u001b[0m\u001b[0;34m(\u001b[0m\u001b[0;34m'label'\u001b[0m\u001b[0;34m,\u001b[0m\u001b[0;34m{\u001b[0m\u001b[0;34m'class'\u001b[0m\u001b[0;34m:\u001b[0m\u001b[0;34m'mobile'\u001b[0m\u001b[0;34m}\u001b[0m\u001b[0;34m)\u001b[0m\u001b[0;34m.\u001b[0m\u001b[0mtext\u001b[0m\u001b[0;34m\u001b[0m\u001b[0;34m\u001b[0m\u001b[0m\n\u001b[1;32m     13\u001b[0m \u001b[0mwebsite\u001b[0m \u001b[0;34m=\u001b[0m \u001b[0msoup\u001b[0m\u001b[0;34m.\u001b[0m\u001b[0mfind\u001b[0m\u001b[0;34m(\u001b[0m\u001b[0;34m'a'\u001b[0m\u001b[0;34m,\u001b[0m\u001b[0;34m{\u001b[0m\u001b[0;34m'class'\u001b[0m\u001b[0;34m:\u001b[0m\u001b[0;34m'website'\u001b[0m\u001b[0;34m}\u001b[0m\u001b[0;34m)\u001b[0m\u001b[0;34m.\u001b[0m\u001b[0mtext\u001b[0m\u001b[0;34m\u001b[0m\u001b[0;34m\u001b[0m\u001b[0m\n",
      "\u001b[0;31mAttributeError\u001b[0m: 'NoneType' object has no attribute 'text'"
     ]
    }
   ],
   "source": [
    "# Parsing HTML Label Elements\n",
    "\n",
    "import requests\n",
    "from bs4 import BeautifulSoup\n",
    "\n",
    "\n",
    "URL = 'https://bradfordtuckfield.com/contactscrape.xhtml'\n",
    "response = requests.get(URL)\n",
    "soup = BeautifulSoup(response.text, 'lxml')\n",
    "\n",
    "email = soup.find('label',{'class':'email'}).text\n",
    "mobile = soup.find('label',{'class':'mobile'}).text\n",
    "website = soup.find('a',{'class':'website'}).text\n",
    "\n",
    "print(\"Email : {}\".format(email))\n",
    "print(\"Mobile : {}\".format(mobile))\n",
    "print(\"Website : {}\".format(website))"
   ]
  },
  {
   "cell_type": "code",
   "execution_count": 66,
   "id": "e64715f3",
   "metadata": {},
   "outputs": [],
   "source": [
    "# Scraping and Parsing HTML Tables\n",
    "\n",
    "import requests\n",
    "from bs4 import BeautifulSoup\n",
    "\n",
    "\n",
    "URL = 'https://bradfordtuckfield.com/user_detailsscrape.xhtml'\n",
    "response = requests.get(URL)\n",
    "soup = BeautifulSoup(response.text, 'lxml')\n",
    "\n",
    "all_user_entries = soup.find_all('tr',{'class':'user-details'})\n",
    "for each_user in all_user_entries:\n",
    "    user = each_user.find_all(\"td\")\n",
    "    print(\"User Firstname : {}, Lastname : {}, Age: {}\"\\\n",
    ".format(user[0].text, user[1].text, user[2].text))"
   ]
  },
  {
   "cell_type": "markdown",
   "id": "53d8f998",
   "metadata": {},
   "source": [
    "## Advanced Scraping\n",
    "\n",
    "- With dynamic web pages, you may want to use another tool such as the Selenium library, which is designed for scraping dynamic web pages. With Selenium, your script can do things like enter information into website forms and click CAPTCHA-type challenges without requiring direct human input. <br>\n",
    "\n",
    "- Set up one or more proxy servers - A website might block your IP address from accessing its data, so you can set up a different server with a different IP address that the website hasn’t blocked. If the website continues to try to block the IP address of your proxy server as well, you can set up rotating proxies so that you continuously get new IP addresses that are not blocked, and scrape only with those fresh, unblocked IP addresses. <br>\n",
    "\n",
    "- Some websites allow scraping, and some even set up an application programming interface (API) to facilitate data access. An API allows you to query a website’s data automatically and receive data that’s in a user-friendly format. If you ever need to scrape a website, check whether it has an API that you can access. If a website has an API, the API documentation should indicate the data that the API provides and how you can access it. <br>\n",
    "\n",
    "- To prevent the target site from crashing or blocking you, you can adjust your scraper so that it works more slowly. One way to slow down your script is to deliberately add pauses. For example, after downloading one row from a table, the script can pause and do nothing (the script can sleep) for 1 second or 2 seconds or 10 seconds, and then download the next row from the table."
   ]
  }
 ],
 "metadata": {
  "kernelspec": {
   "display_name": "Python 3 (ipykernel)",
   "language": "python",
   "name": "python3"
  },
  "language_info": {
   "codemirror_mode": {
    "name": "ipython",
    "version": 3
   },
   "file_extension": ".py",
   "mimetype": "text/x-python",
   "name": "python",
   "nbconvert_exporter": "python",
   "pygments_lexer": "ipython3",
   "version": "3.9.13"
  }
 },
 "nbformat": 4,
 "nbformat_minor": 5
}
